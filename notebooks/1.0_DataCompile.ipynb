{
 "cells": [
  {
   "cell_type": "markdown",
   "metadata": {},
   "source": [
    "# Load the hourly historical data"
   ]
  },
  {
   "cell_type": "code",
   "execution_count": 27,
   "metadata": {
    "execution": {
     "iopub.execute_input": "2020-08-19T19:34:16.636550Z",
     "iopub.status.busy": "2020-08-19T19:34:16.636228Z",
     "iopub.status.idle": "2020-08-19T19:34:17.885198Z",
     "shell.execute_reply": "2020-08-19T19:34:17.884343Z",
     "shell.execute_reply.started": "2020-08-19T19:34:16.636416Z"
    },
    "tags": []
   },
   "outputs": [
    {
     "name": "stdout",
     "output_type": "stream",
     "text": [
      "The autoreload extension is already loaded. To reload it, use:\n",
      "  %reload_ext autoreload\n"
     ]
    }
   ],
   "source": [
    "%load_ext autoreload\n",
    "%autoreload 2\n",
    "%matplotlib inline\n",
    "\n",
    "import sys\n",
    "sys.path.append('../')\n",
    "\n",
    "import pandas as pd\n",
    "from matplotlib import pyplot as plt\n",
    "import seaborn as sns\n",
    "import os\n",
    "from dotenv import load_dotenv, find_dotenv"
   ]
  },
  {
   "cell_type": "code",
   "execution_count": 28,
   "metadata": {
    "execution": {
     "iopub.execute_input": "2020-08-19T19:34:17.886464Z",
     "iopub.status.busy": "2020-08-19T19:34:17.886294Z",
     "iopub.status.idle": "2020-08-19T19:34:19.196304Z",
     "shell.execute_reply": "2020-08-19T19:34:19.195551Z",
     "shell.execute_reply.started": "2020-08-19T19:34:17.886445Z"
    }
   },
   "outputs": [],
   "source": [
    "# data directories\n",
    "load_dotenv(find_dotenv(), verbose=True)\n",
    "dir_project = os.getenv('PROJECT_ROOT')\n",
    "dir_data_raw = os.path.join(dir_project, 'data/raw/')\n",
    "dir_data_interim = os.path.join(dir_project, 'data/interim/')\n",
    "dir_data_processed = os.path.join(dir_project, 'data/processed/')\n",
    "dir_data_external = os.path.join(dir_project, 'data/external/')\n",
    "dir_models = os.path.join(dir_project, 'models/')"
   ]
  },
  {
   "cell_type": "code",
   "execution_count": 29,
   "metadata": {
    "execution": {
     "iopub.execute_input": "2020-08-19T19:34:19.197992Z",
     "iopub.status.busy": "2020-08-19T19:34:19.197826Z",
     "iopub.status.idle": "2020-08-19T19:35:12.121609Z",
     "shell.execute_reply": "2020-08-19T19:35:12.120602Z",
     "shell.execute_reply.started": "2020-08-19T19:34:19.197974Z"
    }
   },
   "outputs": [],
   "source": [
    "all_dfs_hourly = pd.read_excel(os.path.join(dir_data_raw, 'DATA HYDRO IVADO Data VF 2017-2020YTD.xlsx'), sheet_name=None)"
   ]
  },
  {
   "cell_type": "markdown",
   "metadata": {},
   "source": [
    "The original excel file has several sheets:"
   ]
  },
  {
   "cell_type": "code",
   "execution_count": 30,
   "metadata": {
    "execution": {
     "iopub.execute_input": "2020-08-19T19:35:12.122856Z",
     "iopub.status.busy": "2020-08-19T19:35:12.122666Z",
     "iopub.status.idle": "2020-08-19T19:35:13.446464Z",
     "shell.execute_reply": "2020-08-19T19:35:13.445663Z",
     "shell.execute_reply.started": "2020-08-19T19:35:12.122839Z"
    }
   },
   "outputs": [
    {
     "data": {
      "text/plain": [
       "dict_keys(['Demand', 'Wind', 'Zonal Demand', 'Weather', 'HOEP Price', 'Intertie Flow', 'Generator Output', 'Hourly by Generator Name', 'key Generator name - fuel type'])"
      ]
     },
     "execution_count": 30,
     "metadata": {},
     "output_type": "execute_result"
    }
   ],
   "source": [
    "all_dfs_hourly.keys()"
   ]
  },
  {
   "cell_type": "code",
   "execution_count": 46,
   "metadata": {
    "tags": []
   },
   "outputs": [
    {
     "name": "stdout",
     "output_type": "stream",
     "text": [
      "Demand 30824\n",
      "Wind 30828\n",
      "Zonal Demand 30828\n",
      "Weather 30816\n",
      "HOEP Price 30820\n",
      "Intertie Flow 30816\n",
      "Generator Output 30816\n",
      "Hourly by Generator Name 30816\n"
     ]
    }
   ],
   "source": [
    "for df_key in all_dfs_hourly:\n",
    "    print(df_key, len(all_dfs_hourly[df_key]))"
   ]
  },
  {
   "cell_type": "markdown",
   "metadata": {},
   "source": [
    "# Sheet-wise preprocess"
   ]
  },
  {
   "cell_type": "markdown",
   "metadata": {},
   "source": [
    "Some of the sheets have different time format, we unify them first:"
   ]
  },
  {
   "cell_type": "markdown",
   "metadata": {},
   "source": [
    "- `Weather`"
   ]
  },
  {
   "cell_type": "code",
   "execution_count": 31,
   "metadata": {
    "execution": {
     "iopub.execute_input": "2020-08-19T19:35:13.447436Z",
     "iopub.status.busy": "2020-08-19T19:35:13.447255Z",
     "iopub.status.idle": "2020-08-19T19:35:14.714300Z",
     "shell.execute_reply": "2020-08-19T19:35:14.713552Z",
     "shell.execute_reply.started": "2020-08-19T19:35:13.447416Z"
    }
   },
   "outputs": [],
   "source": [
    "df_weather = all_dfs_hourly['Weather']"
   ]
  },
  {
   "cell_type": "code",
   "execution_count": 32,
   "metadata": {
    "execution": {
     "iopub.execute_input": "2020-08-19T19:35:14.715136Z",
     "iopub.status.busy": "2020-08-19T19:35:14.714975Z",
     "iopub.status.idle": "2020-08-19T19:35:17.999643Z",
     "shell.execute_reply": "2020-08-19T19:35:17.998534Z",
     "shell.execute_reply.started": "2020-08-19T19:35:14.715118Z"
    }
   },
   "outputs": [],
   "source": [
    "# Fusion date and hour\n",
    "df_weather['Fusionné'] = df_weather['Date'].dt.strftime('%m/%d/%Y') + ' ' + (df_weather['Hour']-1).astype(str) + ':00'\n",
    "df_weather['Fusionné'] = pd.to_datetime(df_weather['Fusionné'])"
   ]
  },
  {
   "cell_type": "code",
   "execution_count": 33,
   "metadata": {
    "execution": {
     "iopub.execute_input": "2020-08-19T19:35:18.000622Z",
     "iopub.status.busy": "2020-08-19T19:35:18.000459Z",
     "iopub.status.idle": "2020-08-19T19:35:19.226798Z",
     "shell.execute_reply": "2020-08-19T19:35:19.225762Z",
     "shell.execute_reply.started": "2020-08-19T19:35:18.000605Z"
    }
   },
   "outputs": [
    {
     "data": {
      "text/html": [
       "<div>\n",
       "<style scoped>\n",
       "    .dataframe tbody tr th:only-of-type {\n",
       "        vertical-align: middle;\n",
       "    }\n",
       "\n",
       "    .dataframe tbody tr th {\n",
       "        vertical-align: top;\n",
       "    }\n",
       "\n",
       "    .dataframe thead th {\n",
       "        text-align: right;\n",
       "    }\n",
       "</style>\n",
       "<table border=\"1\" class=\"dataframe\">\n",
       "  <thead>\n",
       "    <tr style=\"text-align: right;\">\n",
       "      <th></th>\n",
       "      <th>Date</th>\n",
       "      <th>Hour</th>\n",
       "      <th>Temp (°C)</th>\n",
       "      <th>Dew Point Temp (°C)</th>\n",
       "      <th>Rel Hum (%)</th>\n",
       "      <th>Stn Press (kPa)</th>\n",
       "      <th>Fusionné</th>\n",
       "    </tr>\n",
       "  </thead>\n",
       "  <tbody>\n",
       "    <tr>\n",
       "      <th>0</th>\n",
       "      <td>2017-01-01</td>\n",
       "      <td>1</td>\n",
       "      <td>0.5</td>\n",
       "      <td>-4.3</td>\n",
       "      <td>70.0</td>\n",
       "      <td>99.34</td>\n",
       "      <td>2017-01-01 00:00:00</td>\n",
       "    </tr>\n",
       "    <tr>\n",
       "      <th>1</th>\n",
       "      <td>2017-01-01</td>\n",
       "      <td>2</td>\n",
       "      <td>0.8</td>\n",
       "      <td>-4.2</td>\n",
       "      <td>70.0</td>\n",
       "      <td>99.52</td>\n",
       "      <td>2017-01-01 01:00:00</td>\n",
       "    </tr>\n",
       "    <tr>\n",
       "      <th>2</th>\n",
       "      <td>2017-01-01</td>\n",
       "      <td>3</td>\n",
       "      <td>0.6</td>\n",
       "      <td>-4.9</td>\n",
       "      <td>67.0</td>\n",
       "      <td>99.64</td>\n",
       "      <td>2017-01-01 02:00:00</td>\n",
       "    </tr>\n",
       "    <tr>\n",
       "      <th>3</th>\n",
       "      <td>2017-01-01</td>\n",
       "      <td>4</td>\n",
       "      <td>1.0</td>\n",
       "      <td>-4.6</td>\n",
       "      <td>66.0</td>\n",
       "      <td>99.82</td>\n",
       "      <td>2017-01-01 03:00:00</td>\n",
       "    </tr>\n",
       "    <tr>\n",
       "      <th>4</th>\n",
       "      <td>2017-01-01</td>\n",
       "      <td>5</td>\n",
       "      <td>1.0</td>\n",
       "      <td>-4.6</td>\n",
       "      <td>66.0</td>\n",
       "      <td>99.98</td>\n",
       "      <td>2017-01-01 04:00:00</td>\n",
       "    </tr>\n",
       "  </tbody>\n",
       "</table>\n",
       "</div>"
      ],
      "text/plain": [
       "        Date  Hour  Temp (°C)  Dew Point Temp (°C)  Rel Hum (%)  \\\n",
       "0 2017-01-01     1        0.5                 -4.3         70.0   \n",
       "1 2017-01-01     2        0.8                 -4.2         70.0   \n",
       "2 2017-01-01     3        0.6                 -4.9         67.0   \n",
       "3 2017-01-01     4        1.0                 -4.6         66.0   \n",
       "4 2017-01-01     5        1.0                 -4.6         66.0   \n",
       "\n",
       "   Stn Press (kPa)            Fusionné  \n",
       "0            99.34 2017-01-01 00:00:00  \n",
       "1            99.52 2017-01-01 01:00:00  \n",
       "2            99.64 2017-01-01 02:00:00  \n",
       "3            99.82 2017-01-01 03:00:00  \n",
       "4            99.98 2017-01-01 04:00:00  "
      ]
     },
     "execution_count": 33,
     "metadata": {},
     "output_type": "execute_result"
    }
   ],
   "source": [
    "df_weather.head()"
   ]
  },
  {
   "cell_type": "markdown",
   "metadata": {},
   "source": [
    "- `Intertie Flow` & `Hourly by Generator Name`"
   ]
  },
  {
   "cell_type": "markdown",
   "metadata": {},
   "source": [
    "Similar to the above:"
   ]
  },
  {
   "cell_type": "code",
   "execution_count": 34,
   "metadata": {
    "execution": {
     "iopub.execute_input": "2020-08-19T19:35:19.229297Z",
     "iopub.status.busy": "2020-08-19T19:35:19.228699Z",
     "iopub.status.idle": "2020-08-19T19:35:22.775578Z",
     "shell.execute_reply": "2020-08-19T19:35:22.774510Z",
     "shell.execute_reply.started": "2020-08-19T19:35:19.229264Z"
    }
   },
   "outputs": [],
   "source": [
    "sheet = 'Intertie Flow'\n",
    "\n",
    "df_temp = all_dfs_hourly[sheet]\n",
    "df_temp['Fusionné'] = df_temp['date'].dt.strftime('%m/%d/%Y') + ' ' + (df_temp['hour'].astype(int)-1).astype(str) + ':00'\n",
    "df_temp['Fusionné'] = pd.to_datetime(df_temp['Fusionné'])"
   ]
  },
  {
   "cell_type": "code",
   "execution_count": 35,
   "metadata": {
    "execution": {
     "iopub.execute_input": "2020-08-19T19:35:22.777035Z",
     "iopub.status.busy": "2020-08-19T19:35:22.776847Z",
     "iopub.status.idle": "2020-08-19T19:35:26.384518Z",
     "shell.execute_reply": "2020-08-19T19:35:26.383741Z",
     "shell.execute_reply.started": "2020-08-19T19:35:22.777016Z"
    }
   },
   "outputs": [],
   "source": [
    "sheet = 'Hourly by Generator Name'\n",
    "\n",
    "df_temp = all_dfs_hourly[sheet]\n",
    "df_temp['Fusionné'] = df_temp['Date'].dt.strftime('%m/%d/%Y') + ' ' + (df_temp['Hour']-1).astype(str) + ':00'\n",
    "df_temp['Fusionné'] = pd.to_datetime(df_temp['Fusionné'])"
   ]
  },
  {
   "cell_type": "markdown",
   "metadata": {},
   "source": [
    "- Unify the col name for `Wind`"
   ]
  },
  {
   "cell_type": "code",
   "execution_count": 36,
   "metadata": {
    "execution": {
     "iopub.execute_input": "2020-08-19T19:35:26.385519Z",
     "iopub.status.busy": "2020-08-19T19:35:26.385325Z",
     "iopub.status.idle": "2020-08-19T19:35:27.823708Z",
     "shell.execute_reply": "2020-08-19T19:35:27.822854Z",
     "shell.execute_reply.started": "2020-08-19T19:35:26.385497Z"
    }
   },
   "outputs": [],
   "source": [
    "df_wind = all_dfs_hourly['Wind']\n",
    "\n",
    "df_wind.rename({'Date': 'Fusionné'}, axis='columns', inplace=True)"
   ]
  },
  {
   "cell_type": "code",
   "execution_count": 37,
   "metadata": {},
   "outputs": [],
   "source": [
    "# clarify the col name\n",
    "df_wind.rename({'Réalisé': 'wind_realized', 'Prévisionnel': 'wind_provisional'}, axis='columns', inplace=True)"
   ]
  },
  {
   "cell_type": "markdown",
   "metadata": {},
   "source": [
    "- Drop duplicated `Ontario Demand` from one of the `Demand` and `Zonal Demand` sheets."
   ]
  },
  {
   "cell_type": "code",
   "execution_count": 38,
   "metadata": {},
   "outputs": [],
   "source": [
    "df_demand = all_dfs_hourly['Demand']\n",
    "df_demand.drop(columns=['Ontario Demand'], inplace=True)"
   ]
  },
  {
   "cell_type": "markdown",
   "metadata": {},
   "source": [
    "# Concatenate different sheets (variables)"
   ]
  },
  {
   "cell_type": "code",
   "execution_count": 39,
   "metadata": {
    "execution": {
     "iopub.execute_input": "2020-08-19T20:52:18.254394Z",
     "iopub.status.busy": "2020-08-19T20:52:18.254075Z",
     "iopub.status.idle": "2020-08-19T20:52:19.499034Z",
     "shell.execute_reply": "2020-08-19T20:52:19.498294Z",
     "shell.execute_reply.started": "2020-08-19T20:52:18.254374Z"
    }
   },
   "outputs": [
    {
     "data": {
      "text/html": [
       "<div>\n",
       "<style scoped>\n",
       "    .dataframe tbody tr th:only-of-type {\n",
       "        vertical-align: middle;\n",
       "    }\n",
       "\n",
       "    .dataframe tbody tr th {\n",
       "        vertical-align: top;\n",
       "    }\n",
       "\n",
       "    .dataframe thead th {\n",
       "        text-align: right;\n",
       "    }\n",
       "</style>\n",
       "<table border=\"1\" class=\"dataframe\">\n",
       "  <thead>\n",
       "    <tr style=\"text-align: right;\">\n",
       "      <th></th>\n",
       "      <th>Generator</th>\n",
       "      <th>Fuel Type</th>\n",
       "    </tr>\n",
       "  </thead>\n",
       "  <tbody>\n",
       "    <tr>\n",
       "      <th>0</th>\n",
       "      <td>ABKENORA</td>\n",
       "      <td>HYDRO</td>\n",
       "    </tr>\n",
       "    <tr>\n",
       "      <th>1</th>\n",
       "      <td>ADELAIDE</td>\n",
       "      <td>WIND</td>\n",
       "    </tr>\n",
       "    <tr>\n",
       "      <th>2</th>\n",
       "      <td>AGUASABON</td>\n",
       "      <td>HYDRO</td>\n",
       "    </tr>\n",
       "    <tr>\n",
       "      <th>3</th>\n",
       "      <td>ALEXANDER</td>\n",
       "      <td>HYDRO</td>\n",
       "    </tr>\n",
       "    <tr>\n",
       "      <th>4</th>\n",
       "      <td>AMARANTH</td>\n",
       "      <td>WIND</td>\n",
       "    </tr>\n",
       "    <tr>\n",
       "      <th>...</th>\n",
       "      <td>...</td>\n",
       "      <td>...</td>\n",
       "    </tr>\n",
       "    <tr>\n",
       "      <th>179</th>\n",
       "      <td>NAPANEE-G3</td>\n",
       "      <td>GAS</td>\n",
       "    </tr>\n",
       "    <tr>\n",
       "      <th>180</th>\n",
       "      <td>NaN</td>\n",
       "      <td>NaN</td>\n",
       "    </tr>\n",
       "    <tr>\n",
       "      <th>181</th>\n",
       "      <td>Generator</td>\n",
       "      <td>Fuel Type</td>\n",
       "    </tr>\n",
       "    <tr>\n",
       "      <th>182</th>\n",
       "      <td>CRYSLER</td>\n",
       "      <td>WIND</td>\n",
       "    </tr>\n",
       "    <tr>\n",
       "      <th>183</th>\n",
       "      <td>ROMNEY</td>\n",
       "      <td>WIND</td>\n",
       "    </tr>\n",
       "  </tbody>\n",
       "</table>\n",
       "<p>184 rows × 2 columns</p>\n",
       "</div>"
      ],
      "text/plain": [
       "      Generator  Fuel Type\n",
       "0      ABKENORA      HYDRO\n",
       "1      ADELAIDE       WIND\n",
       "2     AGUASABON      HYDRO\n",
       "3     ALEXANDER      HYDRO\n",
       "4      AMARANTH       WIND\n",
       "..          ...        ...\n",
       "179  NAPANEE-G3        GAS\n",
       "180         NaN        NaN\n",
       "181   Generator  Fuel Type\n",
       "182     CRYSLER       WIND\n",
       "183      ROMNEY       WIND\n",
       "\n",
       "[184 rows x 2 columns]"
      ]
     },
     "execution_count": 39,
     "metadata": {},
     "output_type": "execute_result"
    }
   ],
   "source": [
    "all_dfs_hourly.pop('key Generator name - fuel type')"
   ]
  },
  {
   "cell_type": "code",
   "execution_count": 40,
   "metadata": {
    "execution": {
     "iopub.execute_input": "2020-08-19T20:52:22.261054Z",
     "iopub.status.busy": "2020-08-19T20:52:22.260851Z",
     "iopub.status.idle": "2020-08-19T20:52:23.824241Z",
     "shell.execute_reply": "2020-08-19T20:52:23.823328Z",
     "shell.execute_reply.started": "2020-08-19T20:52:22.261036Z"
    }
   },
   "outputs": [],
   "source": [
    "from functools import reduce\n",
    "\n",
    "df_merged = reduce(lambda  left,right: pd.merge(left,right,on=['Fusionné'], \n",
    "                                                how='outer'), all_dfs_hourly.values())"
   ]
  },
  {
   "cell_type": "code",
   "execution_count": 41,
   "metadata": {
    "execution": {
     "iopub.execute_input": "2020-08-19T20:52:24.563290Z",
     "iopub.status.busy": "2020-08-19T20:52:24.563077Z",
     "iopub.status.idle": "2020-08-19T20:52:25.912093Z",
     "shell.execute_reply": "2020-08-19T20:52:25.911340Z",
     "shell.execute_reply.started": "2020-08-19T20:52:24.563272Z"
    }
   },
   "outputs": [],
   "source": [
    "df_merged.rename({'Fusionné': 'date'}, axis='columns', inplace=True)"
   ]
  },
  {
   "cell_type": "code",
   "execution_count": 42,
   "metadata": {
    "execution": {
     "iopub.execute_input": "2020-08-19T20:52:32.954082Z",
     "iopub.status.busy": "2020-08-19T20:52:32.953857Z",
     "iopub.status.idle": "2020-08-19T20:52:34.272161Z",
     "shell.execute_reply": "2020-08-19T20:52:34.271346Z",
     "shell.execute_reply.started": "2020-08-19T20:52:32.954062Z"
    }
   },
   "outputs": [
    {
     "data": {
      "text/plain": [
       "219"
      ]
     },
     "execution_count": 42,
     "metadata": {},
     "output_type": "execute_result"
    }
   ],
   "source": [
    "len(df_merged.columns)"
   ]
  },
  {
   "cell_type": "code",
   "execution_count": 47,
   "metadata": {},
   "outputs": [
    {
     "data": {
      "text/plain": [
       "35424"
      ]
     },
     "execution_count": 47,
     "metadata": {},
     "output_type": "execute_result"
    }
   ],
   "source": [
    "len(df_merged)"
   ]
  },
  {
   "cell_type": "markdown",
   "metadata": {},
   "source": [
    "Output:"
   ]
  },
  {
   "cell_type": "code",
   "execution_count": 43,
   "metadata": {
    "execution": {
     "iopub.execute_input": "2020-08-19T20:55:25.379731Z",
     "iopub.status.busy": "2020-08-19T20:55:25.379459Z",
     "iopub.status.idle": "2020-08-19T20:55:32.187689Z",
     "shell.execute_reply": "2020-08-19T20:55:32.186711Z",
     "shell.execute_reply.started": "2020-08-19T20:55:25.379707Z"
    }
   },
   "outputs": [],
   "source": [
    "df_merged.to_csv(os.path.join(dir_data_interim, 'hourly_data_merged_all_variables.csv'), index=False)"
   ]
  }
 ],
 "metadata": {
  "kernelspec": {
   "display_name": "Python 3",
   "language": "python",
   "name": "python3"
  },
  "language_info": {
   "codemirror_mode": {
    "name": "ipython",
    "version": 3
   },
   "file_extension": ".py",
   "mimetype": "text/x-python",
   "name": "python",
   "nbconvert_exporter": "python",
   "pygments_lexer": "ipython3",
   "version": "3.8.2"
  }
 },
 "nbformat": 4,
 "nbformat_minor": 4
}
